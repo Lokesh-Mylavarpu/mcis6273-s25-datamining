{
  "metadata": {
    "kernelspec": {
      "name": "python",
      "display_name": "Python (Pyodide)",
      "language": "python"
    },
    "language_info": {
      "codemirror_mode": {
        "name": "python",
        "version": 3
      },
      "file_extension": ".py",
      "mimetype": "text/x-python",
      "name": "python",
      "nbconvert_exporter": "python",
      "pygments_lexer": "ipython3",
      "version": "3.8"
    }
  },
  "nbformat_minor": 5,
  "nbformat": 4,
  "cells": [
    {
      "id": "96dd17a8-17a7-4e3c-a13e-8c66a353885b",
      "cell_type": "code",
      "source": "import pandas as pd\n\n# Step 1: Load raw data\ndf = pd.read_csv('./data/2024_flavors_of_cacoa.tsv', sep='\\t')\n\n# Step 2: Convert Cocoa Percent\ndf['Cocoa Percent'] = df['Cocoa Percent'].str.replace('%', '').astype(float) / 100\n\n# Step 3: Split Ingredients\ndf[['ingredient_count', 'ingredient_codes']] = df['Ingredients'].str.split('-', expand=True)\ndf['ingredient_count'] = df['ingredient_count'].str.strip().replace('', None).astype(float).astype('Int64')\ndf['ingredient_codes'] = df['ingredient_codes'].str.strip()\ningredient_dummies = df['ingredient_codes'].str.get_dummies(sep=',')\ndf = pd.concat([df, ingredient_dummies], axis=1)\n\n# Step 4: Clean column names\ndf.columns = df.columns.str.strip()\n\n# Step 5: One-hot encode Characteristics\nchar_dummies = df['Most Memorable Characteristics'].str.get_dummies(sep=',')\nchar_dummies.columns = char_dummies.columns.str.strip()\nchar_counts = char_dummies.sum().sort_values(ascending=False)\nfrequent_chars = char_counts[char_counts >= 20].index\nchar_dummies_filtered = char_dummies[frequent_chars]\ndf = pd.concat([df, char_dummies_filtered], axis=1)\n\n# Step 6: Drop unnecessary columns\ndf.drop(columns=['Ingredients', 'Most Memorable Characteristics', 'ingredient_codes'], inplace=True)\ndf = df.loc[:, ~df.columns.duplicated()]\n\n# Step 7: Export cleaned full data\ndf.to_csv('./data/cleaned_chocolate_data.csv', index=False)\nprint(\"✅ Exported cleaned_chocolate_data.csv\")\n\n# Step 8: Apply filters for final step\nfiltered_df = df[\n    (df['Rating'] >= 3.25) &\n    (df['Cocoa Percent'] >= 0.65) & (df['Cocoa Percent'] <= 0.75) &\n    (df['Review Date'] >= 2018) & (df['Review Date'] <= 2021) &\n    ((df['fatty'] == 1) | (df['earthy'] == 1) | (df['roasty'] == 1))\n]\n\n# Step 9: Export filtered data\nfiltered_df.to_csv('./data/data_filtered_2025_flavors_of_cacao.csv', index=False)\nfiltered_df.to_json('./data/data_filtered_2025_flavors_of_cacao.json', orient='records')\nprint(\"✅ Exported data_filtered_2025_flavors_of_cacao.csv and .json\")\n\n# Final check\nprint(f\"✅ Total rows after filtering: {filtered_df.shape[0]}\")\n",
      "metadata": {
        "trusted": true
      },
      "outputs": [],
      "execution_count": null
    },
    {
      "id": "db156ad4-b5a9-45a4-a429-c1432a888cca",
      "cell_type": "code",
      "source": "",
      "metadata": {
        "trusted": true
      },
      "outputs": [],
      "execution_count": null
    }
  ]
}
