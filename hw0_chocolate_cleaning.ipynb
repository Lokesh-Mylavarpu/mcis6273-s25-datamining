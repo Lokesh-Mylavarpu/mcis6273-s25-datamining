{
  "metadata": {
    "kernelspec": {
      "name": "python",
      "display_name": "Python (Pyodide)",
      "language": "python"
    },
    "language_info": {
      "codemirror_mode": {
        "name": "python",
        "version": 3
      },
      "file_extension": ".py",
      "mimetype": "text/x-python",
      "name": "python",
      "nbconvert_exporter": "python",
      "pygments_lexer": "ipython3",
      "version": "3.8"
    }
  },
  "nbformat_minor": 5,
  "nbformat": 4,
  "cells": [
    {
      "id": "734f7b8b-fb34-4329-b099-4e72ccf1a57b",
      "cell_type": "code",
      "source": "import pandas as pd\n\n# Step 1: Load raw chocolate dataset\ndf = pd.read_csv('./data/2024_flavors_of_cacoa.tsv', sep='\\t')\n\n# Step 2: Convert Cocoa Percent to float\ndf['Cocoa Percent'] = df['Cocoa Percent'].str.replace('%', '').astype(float) / 100\n\n# Step 3: Split Ingredients\ndf[['ingredient_count', 'ingredient_codes']] = df['Ingredients'].str.split('-', expand=True)\ndf['ingredient_count'] = df['ingredient_count'].str.strip().replace('', None).astype(float).astype('Int64')\ndf['ingredient_codes'] = df['ingredient_codes'].str.strip()\ningredient_dummies = df['ingredient_codes'].str.get_dummies(sep=',')\ndf = pd.concat([df, ingredient_dummies], axis=1)\n\n# Step 4: Clean column names\ndf.columns = df.columns.str.strip()\n\n# Step 5: One-hot encode Most Memorable Characteristics\nchar_dummies = df['Most Memorable Characteristics'].str.get_dummies(sep=',')\nchar_dummies.columns = char_dummies.columns.str.strip()\n\n# Step 6: Keep only characteristics that occur >= 20 times\nchar_counts = char_dummies.sum().sort_values(ascending=False)\nfrequent_chars = char_counts[char_counts >= 20].index\nchar_dummies_filtered = char_dummies[frequent_chars]\ndf = pd.concat([df, char_dummies_filtered], axis=1)\n\n# Step 7: Drop unnecessary columns\ndf.drop(columns=['Ingredients', 'Most Memorable Characteristics', 'ingredient_codes'], inplace=True)\n\n# Step 8: Remove any duplicate columns\ndf = df.loc[:, ~df.columns.duplicated()]\n\n# Step 9: Final check\nprint(\"✅ Final column count:\", df.shape[1])  # Should be 86\nprint(\"✅ Total rows:\", df.shape[0])          # Should be 2789\nprint(\"✅ Characteristics kept:\", len(frequent_chars))  # Should be 71\n\n# Step 10: Export CSV\ndf.to_csv('./data/cleaned_chocolate_data.csv', index=False)\nprint(\"📦 Exported cleaned_chocolate_data.csv\")\n",
      "metadata": {
        "trusted": true
      },
      "outputs": [
        {
          "name": "stdout",
          "output_type": "stream",
          "text": "✅ Final column count: 72\n✅ Total rows: 2789\n✅ Characteristics kept: 77\n📦 Exported cleaned_chocolate_data.csv\n"
        }
      ],
      "execution_count": 2
    },
    {
      "id": "13569247-e2c4-4194-990a-7022be30adc4",
      "cell_type": "code",
      "source": "",
      "metadata": {
        "trusted": true
      },
      "outputs": [],
      "execution_count": null
    }
  ]
}